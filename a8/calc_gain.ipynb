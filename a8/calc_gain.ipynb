{
 "cells": [
  {
   "cell_type": "code",
   "execution_count": 1,
   "metadata": {},
   "outputs": [],
   "source": [
    "import math"
   ]
  },
  {
   "cell_type": "code",
   "execution_count": 2,
   "metadata": {},
   "outputs": [],
   "source": [
    "def calc_amount_info(p):\n",
    "    a_info = -p*math.log2(p)\n",
    "    return a_info"
   ]
  },
  {
   "cell_type": "code",
   "execution_count": 3,
   "metadata": {},
   "outputs": [],
   "source": [
    "def calc_entropy_2(a,b):\n",
    "    if a*b == 0:\n",
    "        entropy = 0\n",
    "    else:\n",
    "        entropy = calc_amount_info(a/(a+b)) + calc_amount_info(b/(a+b))\n",
    "    return entropy"
   ]
  },
  {
   "cell_type": "code",
   "execution_count": 4,
   "metadata": {},
   "outputs": [],
   "source": [
    "def calc_info_a_d(l):\n",
    "    n = sum([a[0] for a in l])\n",
    "    info_a_d = 0\n",
    "    for a in l:\n",
    "        info_a_d += a[0]/n * calc_entropy_2(a[1],a[2])\n",
    "        \n",
    "    return info_a_d"
   ]
  },
  {
   "cell_type": "code",
   "execution_count": 5,
   "metadata": {},
   "outputs": [
    {
     "name": "stdout",
     "output_type": "stream",
     "text": [
      "0.899030771238222\n"
     ]
    }
   ],
   "source": [
    "j = 113\n",
    "s = 52\n",
    "n = j+s\n",
    "info_d_root = calc_entropy_2(j,s)\n",
    "print(info_d_root)"
   ]
  },
  {
   "cell_type": "code",
   "execution_count": 6,
   "metadata": {},
   "outputs": [],
   "source": [
    "def calc_gain(attr, l, info_d_root):\n",
    "    print('attr:{}'.format(attr))\n",
    "    info_d = calc_info_a_d(l)\n",
    "    print('info_d={}'.format(info_d))\n",
    "    gain = info_d_root - info_d\n",
    "    print('gain={}'.format(gain))"
   ]
  },
  {
   "cell_type": "code",
   "execution_count": 7,
   "metadata": {},
   "outputs": [
    {
     "name": "stdout",
     "output_type": "stream",
     "text": [
      "attr:Department\n",
      "info_d=0.8504239852462385\n",
      "gain=0.048606785991983426\n",
      "\n",
      "attr:Age\n",
      "info_d=0.47429565025985587\n",
      "gain=0.4247351209783661\n",
      "\n",
      "attr:Salary\n",
      "info_d=0.3615126448223573\n",
      "gain=0.5375181264158646\n"
     ]
    }
   ],
   "source": [
    "attr = 'Department'\n",
    "# sales, systems, marketing, secretary\n",
    "l = [[30+40+40, 40+40, 30], [20+5+3+3, 20+3, 5+3], [10+4, 4, 10], [4+6, 6, 4]]\n",
    "assert sum([a[0] for a in l]) == n\n",
    "calc_gain(attr, l, info_d_root)\n",
    "print()\n",
    "\n",
    "attr = 'Age'\n",
    "# 21-25, 26-30, 31-35, 36-40, 41-45, 46-50\n",
    "l = [[20, 20, 0], [40+3+6, 40+3+6, 0], [30+40+5+4, 40+4, 30+5], [10, 0, 10], [3, 0, 3], [4, 0, 4]]\n",
    "assert sum([a[0] for a in l]) == n\n",
    "calc_gain(attr, l, info_d_root)\n",
    "print()\n",
    "\n",
    "attr = 'Salary'\n",
    "# 2.6M-3.0M, 3.1M-3.5M, 3.6M-4.0M, 4.1M-4.5M, 4.6M-5.0M, 6.6M-7.0M\n",
    "l = [[40+6, 40+6, 0], [40, 40, 0], [4, 0, 4], [4, 4, 0], [30+20+3+10, 20+3, 30+10], [5+3, 0, 5+3]]\n",
    "assert sum([a[0] for a in l]) == n\n",
    "calc_gain(attr, l, info_d_root)"
   ]
  },
  {
   "cell_type": "code",
   "execution_count": null,
   "metadata": {},
   "outputs": [],
   "source": []
  }
 ],
 "metadata": {
  "kernelspec": {
   "display_name": "Python 3",
   "language": "python",
   "name": "python3"
  },
  "language_info": {
   "codemirror_mode": {
    "name": "ipython",
    "version": 3
   },
   "file_extension": ".py",
   "mimetype": "text/x-python",
   "name": "python",
   "nbconvert_exporter": "python",
   "pygments_lexer": "ipython3",
   "version": "3.8.5"
  }
 },
 "nbformat": 4,
 "nbformat_minor": 4
}
